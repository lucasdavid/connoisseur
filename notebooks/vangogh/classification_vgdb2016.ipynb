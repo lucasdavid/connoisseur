{
 "cells": [
  {
   "cell_type": "markdown",
   "metadata": {
    "id": "SeI5rfLS53dt"
   },
   "source": [
    "# Authentication of Vincent van Gogh's Artwork"
   ]
  },
  {
   "cell_type": "code",
   "execution_count": 1,
   "metadata": {
    "id": "mXgz07k350cj"
   },
   "outputs": [],
   "source": [
    "import tensorflow as tf"
   ]
  },
  {
   "cell_type": "code",
   "execution_count": 2,
   "metadata": {
    "id": "mY2VNrre6NsE"
   },
   "outputs": [],
   "source": [
    "class Config:\n",
    "    class data:\n",
    "        input_shape = (300, 300, 3)\n",
    "        batch_size = 64\n",
    "\n",
    "        buffer_size = 64 * 1000\n",
    "\n",
    "    class model:\n",
    "        dropout = 0.2\n",
    "        feature_layers = [\n",
    "            'block1a_activation',\n",
    "            'block2d_activation',\n",
    "            'block3a_activation',\n",
    "            'block5f_activation',\n",
    "            'top_activation']\n",
    "\n",
    "    class training:\n",
    "        epochs = 100\n",
    "\n",
    "        learning_rates = [0.0001, 0.005, 0.001, 0.0001]\n",
    "        learning_rate_boundaries = [20, 50, 80]\n",
    "        \n",
    "        early_stopping_patience = 50\n",
    "        reduce_lr_on_plateau_patience = 20\n",
    "        reduce_lr_on_plateau_factor = 0.5\n",
    "\n",
    "        logs = '/datasets/vgdb_2016/logs/vg/efficientb4'\n",
    "\n",
    "        fine_tune_epochs = 20\n",
    "        fine_tune_lr = 0.0001\n",
    "        frozen_layers = 100\n",
    "\n",
    "    seed = 24812"
   ]
  },
  {
   "cell_type": "markdown",
   "metadata": {
    "id": "P9msV_P9FmeE"
   },
   "source": [
    "## Setup"
   ]
  },
  {
   "cell_type": "code",
   "execution_count": 3,
   "metadata": {
    "id": "5kMu2LNpFn23"
   },
   "outputs": [],
   "source": [
    "import os\n",
    "\n",
    "import numpy as np\n",
    "import pandas as pd\n",
    "\n",
    "import seaborn as sns\n",
    "import matplotlib.pyplot as plt\n",
    "\n",
    "import shutil"
   ]
  },
  {
   "cell_type": "code",
   "execution_count": 4,
   "metadata": {
    "id": "7YjgGo9SF3Oz"
   },
   "outputs": [],
   "source": [
    "sns.set()"
   ]
  },
  {
   "cell_type": "markdown",
   "metadata": {
    "id": "pfhec6dT-YOS"
   },
   "source": [
    "## Datasets"
   ]
  },
  {
   "cell_type": "code",
   "execution_count": 5,
   "metadata": {
    "colab": {
     "base_uri": "https://localhost:8080/"
    },
    "id": "xIzP7lmj_ALj",
    "outputId": "0d6a31a3-7c5c-456f-b15f-b0dff07b13f0"
   },
   "outputs": [
    {
     "name": "stdout",
     "output_type": "stream",
     "text": [
      "Found 18500 files belonging to 2 classes.\n",
      "Found 7900 files belonging to 2 classes.\n",
      "Found 6700 files belonging to 2 classes.\n"
     ]
    }
   ],
   "source": [
    "train_data = tf.keras.preprocessing.image_dataset_from_directory(\n",
    "    '/datasets/vgdb_2016/patches/random/train',\n",
    "    batch_size=Config.data.batch_size,\n",
    "    image_size=Config.data.input_shape[:2],\n",
    "    seed=Config.seed)\n",
    "\n",
    "valid_data = tf.keras.preprocessing.image_dataset_from_directory(\n",
    "    '/datasets/vgdb_2016/patches/random/valid',\n",
    "    batch_size=Config.data.batch_size,\n",
    "    image_size=Config.data.input_shape[:2],\n",
    "    shuffle=False)\n",
    "\n",
    "test_data = tf.keras.preprocessing.image_dataset_from_directory(\n",
    "    '/datasets/vgdb_2016/patches/random/test',\n",
    "    batch_size=Config.data.batch_size,\n",
    "    image_size=Config.data.input_shape[:2],\n",
    "    shuffle=False)"
   ]
  },
  {
   "cell_type": "code",
   "execution_count": 6,
   "metadata": {},
   "outputs": [],
   "source": [
    "def prepare(d):\n",
    "    return d.prefetch(buffer_size=tf.data.experimental.AUTOTUNE)\n",
    "\n",
    "train_data = prepare(train_data)\n",
    "valid_data = prepare(valid_data)\n",
    "test_data = prepare(test_data)"
   ]
  },
  {
   "cell_type": "markdown",
   "metadata": {
    "id": "igqsx0UbGdoq"
   },
   "source": [
    "### Augmentation Policy"
   ]
  },
  {
   "cell_type": "code",
   "execution_count": 7,
   "metadata": {
    "id": "I61QRn8OGfLh"
   },
   "outputs": [],
   "source": [
    "from tensorflow.keras.layers.experimental.preprocessing import (RandomFlip, RandomRotation,\n",
    "                                                                RandomContrast, RandomZoom)\n",
    "\n",
    "data_augmentation = tf.keras.Sequential([\n",
    "  RandomFlip(\"horizontal_and_vertical\"),\n",
    "  RandomRotation(.5),\n",
    "  RandomContrast(.2),\n",
    "  RandomZoom(.25)\n",
    "], name='augmentation')"
   ]
  },
  {
   "cell_type": "markdown",
   "metadata": {
    "id": "czoqXxgz-XJt"
   },
   "source": [
    "## Network"
   ]
  },
  {
   "cell_type": "code",
   "execution_count": 8,
   "metadata": {
    "colab": {
     "base_uri": "https://localhost:8080/"
    },
    "id": "CIO3o9Bt6FIw",
    "outputId": "e7915e11-e557-46da-9660-436cc9e5970e"
   },
   "outputs": [],
   "source": [
    "from tensorflow.keras import Model\n",
    "\n",
    "def get_backbone(shape, feature_layers):\n",
    "    ef = tf.keras.applications.EfficientNetB4(include_top=False, input_shape=shape)\n",
    "    ls = [ef.get_layer(l).output for l in feature_layers]\n",
    "\n",
    "    return Model(\n",
    "        ef.inputs,\n",
    "        ls,\n",
    "        name='efficientnetb4_backbone'\n",
    "    )\n",
    "\n",
    "efficientnetb4 = get_backbone(Config.data.input_shape, Config.model.feature_layers)\n",
    "efficientnetb4.trainable = False"
   ]
  },
  {
   "cell_type": "code",
   "execution_count": 9,
   "metadata": {
    "id": "nEqEmnsC7LHl"
   },
   "outputs": [],
   "source": [
    "from tensorflow.keras import Input, Model\n",
    "from tensorflow.keras.layers import (Dropout, Dense, Concatenate,\n",
    "                                     GlobalAveragePooling2D)\n",
    "\n",
    "def build_authenticator(\n",
    "    backbone,\n",
    "    shape,\n",
    "    global_bool=GlobalAveragePooling2D,\n",
    "    dropout=.2,\n",
    "    augmentation=None):\n",
    "    p = global_bool(name='pool')\n",
    "\n",
    "    y = x = Input(shape, name='images')\n",
    "\n",
    "    if augmentation:\n",
    "        y = augmentation(y)\n",
    "\n",
    "    features = backbone(y)\n",
    "    features = [p(f) for f in features]\n",
    "    \n",
    "    y = Concatenate(name='features_concat')(features)\n",
    "    \n",
    "    if dropout:\n",
    "        y = Dropout(rate=dropout)(y)\n",
    "    \n",
    "    y = Dense(1, name='predictions')(y)\n",
    "\n",
    "    return Model(x, y, name='vg_authenticator')\n",
    "\n",
    "\n",
    "vg = build_authenticator(backbone=efficientnetb4,\n",
    "                         augmentation=data_augmentation,\n",
    "                         shape=Config.data.input_shape,\n",
    "                         dropout=Config.model.dropout)"
   ]
  },
  {
   "cell_type": "code",
   "execution_count": 10,
   "metadata": {
    "colab": {
     "base_uri": "https://localhost:8080/",
     "height": 754
    },
    "id": "AMZzZ0D06xgh",
    "outputId": "aff9ad85-f50b-4608-fe3b-63227a94b1ba"
   },
   "outputs": [
    {
     "name": "stdout",
     "output_type": "stream",
     "text": [
      "('Failed to import pydot. You must `pip install pydot` and install graphviz (https://graphviz.gitlab.io/download/), ', 'for `pydotprint` to work.')\n"
     ]
    }
   ],
   "source": [
    "tf.keras.utils.plot_model(vg, show_shapes=True)"
   ]
  },
  {
   "cell_type": "markdown",
   "metadata": {
    "id": "yH0Pt0vv_x5G"
   },
   "source": [
    "## Training"
   ]
  },
  {
   "cell_type": "markdown",
   "metadata": {
    "id": "B8rkVtnrC6Py"
   },
   "source": [
    "### Learning Rate Behavior over Time"
   ]
  },
  {
   "cell_type": "code",
   "execution_count": 11,
   "metadata": {
    "id": "Ee2m0W8rFWhD"
   },
   "outputs": [],
   "source": [
    "steps_per_epoch = len(train_data)\n",
    "\n",
    "LR = tf.optimizers.schedules.PiecewiseConstantDecay(\n",
    "    boundaries=[b * steps_per_epoch for b in Config.training.learning_rate_boundaries],\n",
    "    values=Config.training.learning_rates\n",
    ")"
   ]
  },
  {
   "cell_type": "code",
   "execution_count": 12,
   "metadata": {
    "cellView": "form",
    "colab": {
     "base_uri": "https://localhost:8080/",
     "height": 284
    },
    "id": "8WFW9NqaC5oo",
    "outputId": "85815dd9-5928-4dcc-a023-5a800088dc76"
   },
   "outputs": [
    {
     "data": {
      "image/png": "[encoded data removed]",
      "text/plain": [
       "<Figure size 432x288 with 1 Axes>"
      ]
     },
     "metadata": {},
     "output_type": "display_data"
    }
   ],
   "source": [
    "#@title\n",
    "\n",
    "def plot_lr_over_time():\n",
    "    steps = tf.range(0, steps_per_epoch * Config.training.epochs, 100)\n",
    "    lr_over_time = tf.stack([LR(i) for i in steps])\n",
    "\n",
    "    sns.lineplot(x=steps, y=lr_over_time, label='PiecewiseConstantDecay')\n",
    "    plt.title('Learning Rate Behavior over Time');\n",
    "\n",
    "plot_lr_over_time()"
   ]
  },
  {
   "cell_type": "markdown",
   "metadata": {
    "id": "3e0wghzoHudz"
   },
   "source": [
    "### Callbacks"
   ]
  },
  {
   "cell_type": "code",
   "execution_count": 13,
   "metadata": {
    "id": "8OYZvJ9ZHwR5"
   },
   "outputs": [],
   "source": [
    "class TensorBoardExt(tf.keras.callbacks.TensorBoard):\n",
    "    def on_epoch_end(self, epoch, logs=None):\n",
    "        logs = logs or {}\n",
    "        logs.update({'lr': self.model.optimizer.lr(epoch * steps_per_epoch)})\n",
    "        super().on_epoch_end(epoch, logs)"
   ]
  },
  {
   "cell_type": "code",
   "execution_count": 14,
   "metadata": {
    "id": "I_mkVGLW5ola"
   },
   "outputs": [],
   "source": [
    "callbacks = [\n",
    "    tf.keras.callbacks.TerminateOnNaN(),\n",
    "    tf.keras.callbacks.EarlyStopping(\n",
    "        patience=Config.training.early_stopping_patience,\n",
    "        verbose=1),\n",
    "    TensorBoardExt(\n",
    "        log_dir=Config.training.logs,\n",
    "        histogram_freq=10,\n",
    "        write_graph=False,\n",
    "        profile_batch = '8,36'),\n",
    "    tf.keras.callbacks.ModelCheckpoint(\n",
    "        Config.training.logs + '/weights.h5',\n",
    "        save_weights_only=True,\n",
    "        save_best_only=True,\n",
    "        verbose=1),\n",
    "    tf.keras.callbacks.ReduceLROnPlateau(\n",
    "        patience=Config.training.reduce_lr_on_plateau_patience,\n",
    "        factor=Config.training.reduce_lr_on_plateau_factor,\n",
    "        verbose=1),\n",
    "]"
   ]
  },
  {
   "cell_type": "markdown",
   "metadata": {
    "id": "jhlQjJ3U5j7c"
   },
   "source": [
    "### Perform Training"
   ]
  },
  {
   "cell_type": "code",
   "execution_count": 15,
   "metadata": {
    "id": "UQkg4JnpCPH4"
   },
   "outputs": [],
   "source": [
    "vg.compile(optimizer=tf.keras.optimizers.Adam(learning_rate=LR),\n",
    "           loss=tf.keras.losses.BinaryCrossentropy(from_logits=True),\n",
    "           metrics=[\n",
    "             tf.keras.metrics.BinaryAccuracy(threshold=0.),\n",
    "           ])"
   ]
  },
  {
   "cell_type": "code",
   "execution_count": null,
   "metadata": {
    "colab": {
     "base_uri": "https://localhost:8080/"
    },
    "id": "VfaEKSPt9XJC",
    "outputId": "732a589c-71c5-4d5a-82c8-99dd6cb795b4",
    "scrolled": true
   },
   "outputs": [
    {
     "name": "stdout",
     "output_type": "stream",
     "text": [
      "Epoch 1/100\n",
      "290/290 [==============================] - 260s 859ms/step - loss: 0.6169 - binary_accuracy: 0.6666 - val_loss: 0.4799 - val_binary_accuracy: 0.8258\n",
      "\n",
      "Epoch 00001: val_loss improved from inf to 0.47987, saving model to /datasets/vgdb_2016/logs/vg/efficientb4/weights.h5\n",
      "Epoch 2/100\n",
      "290/290 [==============================] - 228s 786ms/step - loss: 0.4356 - binary_accuracy: 0.8348 - val_loss: 0.4158 - val_binary_accuracy: 0.8363\n",
      "\n",
      "Epoch 00002: val_loss improved from 0.47987 to 0.41580, saving model to /datasets/vgdb_2016/logs/vg/efficientb4/weights.h5\n",
      "Epoch 3/100\n",
      "290/290 [==============================] - 229s 786ms/step - loss: 0.3578 - binary_accuracy: 0.8788 - val_loss: 0.3963 - val_binary_accuracy: 0.8394\n",
      "\n",
      "Epoch 00003: val_loss improved from 0.41580 to 0.39627, saving model to /datasets/vgdb_2016/logs/vg/efficientb4/weights.h5\n",
      "Epoch 4/100\n",
      "290/290 [==============================] - 229s 786ms/step - loss: 0.3208 - binary_accuracy: 0.8898 - val_loss: 0.3835 - val_binary_accuracy: 0.8414\n",
      "\n",
      "Epoch 00004: val_loss improved from 0.39627 to 0.38347, saving model to /datasets/vgdb_2016/logs/vg/efficientb4/weights.h5\n",
      "Epoch 5/100\n",
      "290/290 [==============================] - 229s 786ms/step - loss: 0.2979 - binary_accuracy: 0.8962 - val_loss: 0.3666 - val_binary_accuracy: 0.8453\n",
      "\n",
      "Epoch 00005: val_loss improved from 0.38347 to 0.36665, saving model to /datasets/vgdb_2016/logs/vg/efficientb4/weights.h5\n",
      "Epoch 6/100\n",
      "290/290 [==============================] - 229s 786ms/step - loss: 0.2761 - binary_accuracy: 0.9066 - val_loss: 0.3647 - val_binary_accuracy: 0.8472\n",
      "\n",
      "Epoch 00006: val_loss improved from 0.36665 to 0.36471, saving model to /datasets/vgdb_2016/logs/vg/efficientb4/weights.h5\n",
      "Epoch 7/100\n",
      "290/290 [==============================] - 229s 786ms/step - loss: 0.2651 - binary_accuracy: 0.9088 - val_loss: 0.3628 - val_binary_accuracy: 0.8466\n",
      "\n",
      "Epoch 00007: val_loss improved from 0.36471 to 0.36281, saving model to /datasets/vgdb_2016/logs/vg/efficientb4/weights.h5\n",
      "Epoch 8/100\n",
      "290/290 [==============================] - 229s 786ms/step - loss: 0.2561 - binary_accuracy: 0.9087 - val_loss: 0.3593 - val_binary_accuracy: 0.8462\n",
      "\n",
      "Epoch 00008: val_loss improved from 0.36281 to 0.35926, saving model to /datasets/vgdb_2016/logs/vg/efficientb4/weights.h5\n",
      "Epoch 9/100\n",
      "290/290 [==============================] - 229s 786ms/step - loss: 0.2469 - binary_accuracy: 0.9121 - val_loss: 0.3597 - val_binary_accuracy: 0.8463\n",
      "\n",
      "Epoch 00009: val_loss did not improve from 0.35926\n",
      "Epoch 10/100\n",
      "290/290 [==============================] - 229s 786ms/step - loss: 0.2359 - binary_accuracy: 0.9164 - val_loss: 0.3609 - val_binary_accuracy: 0.8454\n",
      "\n",
      "Epoch 00010: val_loss did not improve from 0.35926\n",
      "Epoch 11/100\n",
      "290/290 [==============================] - 229s 786ms/step - loss: 0.2370 - binary_accuracy: 0.9139 - val_loss: 0.3586 - val_binary_accuracy: 0.8462\n",
      "\n",
      "Epoch 00011: val_loss improved from 0.35926 to 0.35857, saving model to /datasets/vgdb_2016/logs/vg/efficientb4/weights.h5\n",
      "Epoch 12/100\n",
      "290/290 [==============================] - 229s 787ms/step - loss: 0.2305 - binary_accuracy: 0.9188 - val_loss: 0.3582 - val_binary_accuracy: 0.8471\n",
      "\n",
      "Epoch 00012: val_loss improved from 0.35857 to 0.35818, saving model to /datasets/vgdb_2016/logs/vg/efficientb4/weights.h5\n",
      "Epoch 13/100\n",
      "290/290 [==============================] - 229s 787ms/step - loss: 0.2225 - binary_accuracy: 0.9202 - val_loss: 0.3568 - val_binary_accuracy: 0.8485\n",
      "\n",
      "Epoch 00013: val_loss improved from 0.35818 to 0.35676, saving model to /datasets/vgdb_2016/logs/vg/efficientb4/weights.h5\n",
      "Epoch 14/100\n",
      "290/290 [==============================] - 228s 786ms/step - loss: 0.2207 - binary_accuracy: 0.9239 - val_loss: 0.3580 - val_binary_accuracy: 0.8478\n",
      "\n",
      "Epoch 00014: val_loss did not improve from 0.35676\n",
      "Epoch 15/100\n",
      "290/290 [==============================] - 229s 786ms/step - loss: 0.2168 - binary_accuracy: 0.9224 - val_loss: 0.3548 - val_binary_accuracy: 0.8515\n",
      "\n",
      "Epoch 00015: val_loss improved from 0.35676 to 0.35483, saving model to /datasets/vgdb_2016/logs/vg/efficientb4/weights.h5\n",
      "Epoch 16/100\n",
      "290/290 [==============================] - 229s 786ms/step - loss: 0.2106 - binary_accuracy: 0.9237 - val_loss: 0.3586 - val_binary_accuracy: 0.8499\n",
      "\n",
      "Epoch 00016: val_loss did not improve from 0.35483\n",
      "Epoch 17/100\n",
      "154/290 [==============>...............] - ETA: 1:16 - loss: 0.2117 - binary_accuracy: 0.9208"
     ]
    }
   ],
   "source": [
    "try:\n",
    "    shutil.rmtree(Config.training.logs, ignore_errors=True)  # WARNING: this will remove all previous logs.\n",
    "\n",
    "    vg.fit(\n",
    "        train_data,\n",
    "        epochs=Config.training.epochs,\n",
    "        validation_data=valid_data,\n",
    "        callbacks=callbacks)\n",
    "\n",
    "except KeyboardInterrupt: print('\\ninterrupted')\n",
    "else: print('done')"
   ]
  },
  {
   "cell_type": "markdown",
   "metadata": {
    "id": "S0Ks720fSZaM"
   },
   "source": [
    "### Fine-tuning"
   ]
  },
  {
   "cell_type": "code",
   "execution_count": null,
   "metadata": {
    "id": "8Ibb1ARCSzYl"
   },
   "outputs": [],
   "source": [
    "vg.load_weights(Config.training.logs + '/weights.h5')"
   ]
  },
  {
   "cell_type": "code",
   "execution_count": null,
   "metadata": {
    "id": "7jja-22bTCNJ"
   },
   "outputs": [],
   "source": [
    "if Config.training.fine_tune_epochs:\n",
    "    efficientnetb4.trainable = True\n",
    "\n",
    "    for l in efficientnetb4.layers[:Config.training.frozen_layers]:\n",
    "        l.trainable = False\n",
    "    \n",
    "    vg.compile(optimizer=tf.keras.optimizers.Adam(learning_rate=Config.training.fune_tune_lr),\n",
    "           loss=tf.keras.losses.BinaryCrossentropy(from_logits=True),\n",
    "           metrics=[\n",
    "             tf.keras.metrics.BinaryAccuracy(threshold=0.),\n",
    "           ])"
   ]
  },
  {
   "cell_type": "code",
   "execution_count": null,
   "metadata": {
    "id": "xF4YhrnrSaq7"
   },
   "outputs": [],
   "source": [
    "if Config.training.fine_tune_epochs:\n",
    "    efficientnetb4.trainable = True\n",
    "\n",
    "    for l in efficientnetb4.layers[:Config.training.frozen_layers]:\n",
    "        l.trainable = False\n",
    "    \n",
    "    try:\n",
    "        vg.fit(\n",
    "            train_data,\n",
    "            initial_epoch=vg.history.epoch[-1],\n",
    "            epochs=Config.training.epochs + Config.fine_tune_epochs,\n",
    "            validation_data=valid_data,\n",
    "            callbacks=[\n",
    "                tf.keras.callbacks.TerminateOnNaN(),\n",
    "                tf.keras.callbacks.EarlyStopping(\n",
    "                    patience=Config.training.early_stopping_patience,\n",
    "                    verbose=1),\n",
    "                TensorBoardExt(\n",
    "                    log_dir=Config.training.logs,\n",
    "                    histogram_freq=10,\n",
    "                    write_graph=False,\n",
    "                    profile_batch = '8,36'),\n",
    "                tf.keras.callbacks.ModelCheckpoint(\n",
    "                    Config.training.logs + '/weights-ft.h5',\n",
    "                    save_weights_only=True,\n",
    "                    save_best_only=True,\n",
    "                    verbose=1),\n",
    "                tf.keras.callbacks.ReduceLROnPlateau(\n",
    "                    patience=Config.training.reduce_lr_on_plateau_patience,\n",
    "                    factor=Config.training.reduce_lr_on_plateau_factor,\n",
    "                    verbose=1),\n",
    "            ])\n",
    "\n",
    "    except KeyboardInterrupt: print('\\ninterrupted')\n",
    "    else: print('done')"
   ]
  },
  {
   "cell_type": "code",
   "execution_count": null,
   "metadata": {
    "id": "PRJh6PiuTwHx"
   },
   "outputs": [],
   "source": [
    "BEST = '/weights-ft.h5'\n",
    "\n",
    "vg.load_weights(Config.training.logs + BEST)\n",
    "\n",
    "for l in efficientnetb4.layers:\n",
    "    l.trainable = True\n",
    "\n",
    "vg.save_weights(Config.training.logs + BEST)"
   ]
  },
  {
   "cell_type": "markdown",
   "metadata": {
    "id": "uXB6oTGjJy8K"
   },
   "source": [
    "## Testing"
   ]
  },
  {
   "cell_type": "code",
   "execution_count": null,
   "metadata": {
    "id": "I_ER5OC5JrP8"
   },
   "outputs": [],
   "source": [
    "def paintings_from(filenames):\n",
    "    paintings, patches = zip(*(os.path.splitext(os.path.basename(f))[0].split('-') for f in filenames))\n",
    "    patches = list(map(int, patches))\n",
    "\n",
    "    return painting, patches\n",
    "\n",
    "def predict_with_labels(data):\n",
    "    y, p = [], []\n",
    "\n",
    "    steps = len(data)\n",
    "\n",
    "    for step, (x, _y) in enumerate(data):\n",
    "        _p = vg(x, training=False)\n",
    "\n",
    "        y.append(_y), p.append(_p)\n",
    "        \n",
    "        if step % (steps//10) == 0:\n",
    "            print(f'{step/steps:.0f}', end='')\n",
    "        print('.', end='')\n",
    "\n",
    "    return tf.concat(y, axis=0).numpy(), tf.concat(p, axis=0).numpy()\n",
    "\n",
    "y_test, p_test = predict_with_labels(test_data)"
   ]
  },
  {
   "cell_type": "code",
   "execution_count": null,
   "metadata": {
    "id": "r4bh2KaXXBvr"
   },
   "outputs": [],
   "source": [
    "filenames, patch_ids = paintings_from(test_data.file_paths)\n",
    "\n",
    "test_report = pd.DataFrame({\n",
    "    'filenames': filenames,\n",
    "    'patch_id': patch_ids,\n",
    "    'y': y_test,\n",
    "    'prob': p_test.ravel(),\n",
    "    'prediction': (p_test.ravel() > 0.).astype('int'),\n",
    "})"
   ]
  },
  {
   "cell_type": "code",
   "execution_count": null,
   "metadata": {
    "colab": {
     "base_uri": "https://localhost:8080/",
     "height": 206
    },
    "id": "w5LUUxybXTuM",
    "outputId": "62e70d6c-e5ba-4d2a-943a-8e3e343b2331"
   },
   "outputs": [
    {
     "data": {
      "text/html": [
       "<div>\n",
       "<style scoped>\n",
       "    .dataframe tbody tr th:only-of-type {\n",
       "        vertical-align: middle;\n",
       "    }\n",
       "\n",
       "    .dataframe tbody tr th {\n",
       "        vertical-align: top;\n",
       "    }\n",
       "\n",
       "    .dataframe thead th {\n",
       "        text-align: right;\n",
       "    }\n",
       "</style>\n",
       "<table border=\"1\" class=\"dataframe\">\n",
       "  <thead>\n",
       "    <tr style=\"text-align: right;\">\n",
       "      <th></th>\n",
       "      <th>filenames</th>\n",
       "      <th>patch_id</th>\n",
       "      <th>y</th>\n",
       "      <th>prob</th>\n",
       "      <th>prediction</th>\n",
       "    </tr>\n",
       "  </thead>\n",
       "  <tbody>\n",
       "    <tr>\n",
       "      <th>0</th>\n",
       "      <td>nvg_10500055</td>\n",
       "      <td>0</td>\n",
       "      <td>0</td>\n",
       "      <td>1.529222</td>\n",
       "      <td>1</td>\n",
       "    </tr>\n",
       "    <tr>\n",
       "      <th>1</th>\n",
       "      <td>nvg_10500055</td>\n",
       "      <td>1</td>\n",
       "      <td>0</td>\n",
       "      <td>1.462082</td>\n",
       "      <td>1</td>\n",
       "    </tr>\n",
       "    <tr>\n",
       "      <th>2</th>\n",
       "      <td>nvg_10500055</td>\n",
       "      <td>10</td>\n",
       "      <td>0</td>\n",
       "      <td>3.253293</td>\n",
       "      <td>1</td>\n",
       "    </tr>\n",
       "    <tr>\n",
       "      <th>3</th>\n",
       "      <td>nvg_10500055</td>\n",
       "      <td>11</td>\n",
       "      <td>0</td>\n",
       "      <td>2.539852</td>\n",
       "      <td>1</td>\n",
       "    </tr>\n",
       "    <tr>\n",
       "      <th>4</th>\n",
       "      <td>nvg_10500055</td>\n",
       "      <td>12</td>\n",
       "      <td>0</td>\n",
       "      <td>4.107769</td>\n",
       "      <td>1</td>\n",
       "    </tr>\n",
       "  </tbody>\n",
       "</table>\n",
       "</div>"
      ],
      "text/plain": [
       "      filenames  patch_id  y      prob  prediction\n",
       "0  nvg_10500055         0  0  1.529222           1\n",
       "1  nvg_10500055         1  0  1.462082           1\n",
       "2  nvg_10500055        10  0  3.253293           1\n",
       "3  nvg_10500055        11  0  2.539852           1\n",
       "4  nvg_10500055        12  0  4.107769           1"
      ]
     },
     "execution_count": 134,
     "metadata": {
      "tags": []
     },
     "output_type": "execute_result"
    }
   ],
   "source": [
    "test_report.head()"
   ]
  },
  {
   "cell_type": "code",
   "execution_count": null,
   "metadata": {
    "colab": {
     "base_uri": "https://localhost:8080/"
    },
    "id": "7wJEx7A7710P",
    "outputId": "6309d44b-d8d1-44cc-8a0a-0e6a313f90e1"
   },
   "outputs": [
    {
     "name": "stdout",
     "output_type": "stream",
     "text": [
      "## Patch-level Report\n",
      "Acc:     0.918507\n",
      "Cb Acc:  0.926986\n",
      "ROC AuC: 0.979347\n",
      "Confusion Matrix:\n",
      "[3753  447]\n",
      "[  99 2401]\n",
      "[0.8936 0.1064]\n",
      "[0.0396 0.9604]\n",
      "\n",
      "Classification Report\n",
      "              precision    recall  f1-score   support\n",
      "\n",
      "         nvg       0.97      0.89      0.93      4200\n",
      "          vg       0.84      0.96      0.90      2500\n",
      "\n",
      "    accuracy                           0.92      6700\n",
      "   macro avg       0.91      0.93      0.92      6700\n",
      "weighted avg       0.93      0.92      0.92      6700\n",
      "\n"
     ]
    }
   ],
   "source": [
    "from sklearn import metrics\n",
    "\n",
    "\n",
    "def print_results(test_report, labels):\n",
    "    print('## Patch-level Report')\n",
    "\n",
    "    print('Acc:    ', metrics.accuracy_score(test_report.y, test_report.prediction).round(6))\n",
    "    print('Cb Acc: ', metrics.balanced_accuracy_score(test_report.y,test_report.prediction).round(6))\n",
    "    print('ROC AuC:', metrics.roc_auc_score(test_report.y, test_report.prob).round(6))\n",
    "\n",
    "    cm = metrics.confusion_matrix(\n",
    "        test_report.y,\n",
    "        test_report.prediction)\n",
    "    \n",
    "    print('Confusion Matrix:')\n",
    "    print(*cm, sep='\\n')\n",
    "    print(*(cm / cm.sum(axis=1, keepdims=True)).round(4), sep='\\n', end='\\n\\n')\n",
    "\n",
    "    print('Classification Report')\n",
    "    print(metrics.classification_report(\n",
    "        test_report.y,\n",
    "        test_report.prediction,\n",
    "        target_names=labels))\n",
    "\n",
    "print_results(test_report, test_data.class_names)"
   ]
  },
  {
   "cell_type": "markdown",
   "metadata": {
    "id": "4nSnR5wZZM4l"
   },
   "source": [
    "### Paintings"
   ]
  },
  {
   "cell_type": "markdown",
   "metadata": {
    "id": "nzqp3yKVZSnQ"
   },
   "source": [
    "### Fusion Strategies"
   ]
  },
  {
   "cell_type": "code",
   "execution_count": null,
   "metadata": {
    "id": "5kuhSwdxYn-Y"
   },
   "outputs": [],
   "source": [
    "def sum_fusion(labels, distances, t=0.0):\n",
    "    return np.asarray([(np.sum(d, axis=-1) > t) for d in distances], dtype=int)\n",
    "\n",
    "\n",
    "def mean_fusion(labels, distances, t=0.0):\n",
    "    return np.asarray([(np.mean(d, axis=-1) > t) for d in distances], dtype=int)\n",
    "\n",
    "\n",
    "def farthest_fusion(labels, distances, t=0.0):\n",
    "    return np.asarray([d[np.argmax(np.abs(d), axis=-1)] > t for d in distances], dtype=int)\n",
    "\n",
    "\n",
    "def most_frequent_fusion(labels, distances, t=0.0):\n",
    "    try:\n",
    "        return np.asarray([np.argmax(np.bincount(patch_labels)) for patch_labels in labels])\n",
    "    except:\n",
    "        raise"
   ]
  },
  {
   "cell_type": "code",
   "execution_count": null,
   "metadata": {
    "id": "-rmT2V9vaG37"
   },
   "outputs": [],
   "source": [
    "test_paintings_report = test_report.groupby('filenames').agg(dict(\n",
    "    prob=list,\n",
    "    prediction=list,\n",
    "    y='mean'\n",
    "))"
   ]
  },
  {
   "cell_type": "code",
   "execution_count": null,
   "metadata": {
    "id": "YP73XrshaEKK"
   },
   "outputs": [],
   "source": [
    "test_paintings_report['prediction_sum'] = sum_fusion(test_paintings_report.prediction, test_paintings_report.prob)\n",
    "test_paintings_report['prediction_far'] = farthest_fusion(test_paintings_report.prediction, test_paintings_report.prob)\n",
    "test_paintings_report['prediction_fre'] = most_frequent(test_paintings_report.prediction, test_paintings_report.prob)"
   ]
  },
  {
   "cell_type": "code",
   "execution_count": null,
   "metadata": {
    "colab": {
     "base_uri": "https://localhost:8080/",
     "height": 238
    },
    "id": "uaPXKooFcA0w",
    "outputId": "6dbae635-ae7b-4d65-8774-35fe009b47bc"
   },
   "outputs": [
    {
     "data": {
      "text/html": [
       "<div>\n",
       "<style scoped>\n",
       "    .dataframe tbody tr th:only-of-type {\n",
       "        vertical-align: middle;\n",
       "    }\n",
       "\n",
       "    .dataframe tbody tr th {\n",
       "        vertical-align: top;\n",
       "    }\n",
       "\n",
       "    .dataframe thead th {\n",
       "        text-align: right;\n",
       "    }\n",
       "</style>\n",
       "<table border=\"1\" class=\"dataframe\">\n",
       "  <thead>\n",
       "    <tr style=\"text-align: right;\">\n",
       "      <th></th>\n",
       "      <th>prob</th>\n",
       "      <th>prediction</th>\n",
       "      <th>y</th>\n",
       "      <th>prediction_sum</th>\n",
       "      <th>prediction_far</th>\n",
       "      <th>prediction_fre</th>\n",
       "    </tr>\n",
       "    <tr>\n",
       "      <th>filenames</th>\n",
       "      <th></th>\n",
       "      <th></th>\n",
       "      <th></th>\n",
       "      <th></th>\n",
       "      <th></th>\n",
       "      <th></th>\n",
       "    </tr>\n",
       "  </thead>\n",
       "  <tbody>\n",
       "    <tr>\n",
       "      <th>nvg_10500055</th>\n",
       "      <td>[1.529221534729004, 1.4620819091796875, 3.2532...</td>\n",
       "      <td>[1, 1, 1, 1, 1, 1, 1, 1, 1, 1, 1, 1, 1, 1, 1, ...</td>\n",
       "      <td>0</td>\n",
       "      <td>1</td>\n",
       "      <td>1</td>\n",
       "      <td>1</td>\n",
       "    </tr>\n",
       "    <tr>\n",
       "      <th>nvg_10582548</th>\n",
       "      <td>[-2.834152936935425, -8.582700729370117, -9.18...</td>\n",
       "      <td>[0, 0, 0, 0, 0, 0, 0, 0, 0, 0, 0, 0, 0, 0, 0, ...</td>\n",
       "      <td>0</td>\n",
       "      <td>0</td>\n",
       "      <td>0</td>\n",
       "      <td>0</td>\n",
       "    </tr>\n",
       "    <tr>\n",
       "      <th>nvg_10658644</th>\n",
       "      <td>[4.779599666595459, 3.3785626888275146, 4.8165...</td>\n",
       "      <td>[1, 1, 1, 1, 1, 1, 1, 1, 1, 1, 1, 1, 1, 1, 1, ...</td>\n",
       "      <td>0</td>\n",
       "      <td>1</td>\n",
       "      <td>1</td>\n",
       "      <td>1</td>\n",
       "    </tr>\n",
       "    <tr>\n",
       "      <th>nvg_10715961</th>\n",
       "      <td>[-0.1469217836856842, -1.5056886672973633, -0....</td>\n",
       "      <td>[0, 0, 0, 0, 0, 0, 0, 0, 0, 0, 0, 0, 0, 0, 0, ...</td>\n",
       "      <td>0</td>\n",
       "      <td>0</td>\n",
       "      <td>0</td>\n",
       "      <td>0</td>\n",
       "    </tr>\n",
       "    <tr>\n",
       "      <th>nvg_12205276</th>\n",
       "      <td>[-5.327931880950928, -6.595683574676514, -6.32...</td>\n",
       "      <td>[0, 0, 0, 0, 0, 0, 0, 0, 0, 0, 0, 0, 0, 0, 0, ...</td>\n",
       "      <td>0</td>\n",
       "      <td>0</td>\n",
       "      <td>0</td>\n",
       "      <td>0</td>\n",
       "    </tr>\n",
       "  </tbody>\n",
       "</table>\n",
       "</div>"
      ],
      "text/plain": [
       "                                                           prob  ... prediction_fre\n",
       "filenames                                                        ...               \n",
       "nvg_10500055  [1.529221534729004, 1.4620819091796875, 3.2532...  ...              1\n",
       "nvg_10582548  [-2.834152936935425, -8.582700729370117, -9.18...  ...              0\n",
       "nvg_10658644  [4.779599666595459, 3.3785626888275146, 4.8165...  ...              1\n",
       "nvg_10715961  [-0.1469217836856842, -1.5056886672973633, -0....  ...              0\n",
       "nvg_12205276  [-5.327931880950928, -6.595683574676514, -6.32...  ...              0\n",
       "\n",
       "[5 rows x 6 columns]"
      ]
     },
     "execution_count": 146,
     "metadata": {
      "tags": []
     },
     "output_type": "execute_result"
    }
   ],
   "source": [
    "test_paintings_report.head()"
   ]
  },
  {
   "cell_type": "code",
   "execution_count": null,
   "metadata": {
    "colab": {
     "base_uri": "https://localhost:8080/"
    },
    "id": "ezBLgQ2rdUD-",
    "outputId": "11d94476-1253-45f3-ef89-793a84e5b316"
   },
   "outputs": [
    {
     "name": "stdout",
     "output_type": "stream",
     "text": [
      "## Patch-level Report\n",
      "Acc:     0.955224\n",
      "Cb Acc:  0.964286\n",
      "ROC AuC: 0.993333\n",
      "Confusion Matrix:\n",
      "[39  3]\n",
      "[ 0 25]\n",
      "[0.9286 0.0714]\n",
      "[0. 1.]\n",
      "\n",
      "Classification Report\n",
      "              precision    recall  f1-score   support\n",
      "\n",
      "         nvg       1.00      0.93      0.96        42\n",
      "          vg       0.89      1.00      0.94        25\n",
      "\n",
      "    accuracy                           0.96        67\n",
      "   macro avg       0.95      0.96      0.95        67\n",
      "weighted avg       0.96      0.96      0.96        67\n",
      "\n"
     ]
    }
   ],
   "source": [
    "print_results(test_paintings_report.assign(\n",
    "    prob=np.mean(test_paintings_report.prob.values.tolist(), axis=1),\n",
    "    prediction=test_paintings_report.prediction_sum\n",
    "), test_data.class_names)"
   ]
  },
  {
   "cell_type": "code",
   "execution_count": null,
   "metadata": {
    "colab": {
     "base_uri": "https://localhost:8080/"
    },
    "id": "JwG9XTO3d-j6",
    "outputId": "b64ff46a-46ac-45a1-e0d2-24ca95d7ca66"
   },
   "outputs": [
    {
     "name": "stdout",
     "output_type": "stream",
     "text": [
      "## Patch-level Report\n",
      "Acc:     0.940299\n",
      "Cb Acc:  0.944286\n",
      "ROC AuC: 0.993333\n",
      "Confusion Matrix:\n",
      "[39  3]\n",
      "[ 1 24]\n",
      "[0.9286 0.0714]\n",
      "[0.04 0.96]\n",
      "\n",
      "Classification Report\n",
      "              precision    recall  f1-score   support\n",
      "\n",
      "         nvg       0.97      0.93      0.95        42\n",
      "          vg       0.89      0.96      0.92        25\n",
      "\n",
      "    accuracy                           0.94        67\n",
      "   macro avg       0.93      0.94      0.94        67\n",
      "weighted avg       0.94      0.94      0.94        67\n",
      "\n"
     ]
    }
   ],
   "source": [
    "print_results(test_paintings_report.assign(\n",
    "    prob=np.mean(test_paintings_report.prob.values.tolist(), axis=1),\n",
    "    prediction=test_paintings_report.prediction_far\n",
    "), test_data.class_names)"
   ]
  },
  {
   "cell_type": "code",
   "execution_count": null,
   "metadata": {
    "colab": {
     "base_uri": "https://localhost:8080/"
    },
    "id": "zAs3ZHyaeD8z",
    "outputId": "cf1e4aa9-252a-4649-8b57-43f499d93060"
   },
   "outputs": [
    {
     "name": "stdout",
     "output_type": "stream",
     "text": [
      "## Patch-level Report\n",
      "Acc:     0.955224\n",
      "Cb Acc:  0.964286\n",
      "ROC AuC: 0.993333\n",
      "Confusion Matrix:\n",
      "[39  3]\n",
      "[ 0 25]\n",
      "[0.9286 0.0714]\n",
      "[0. 1.]\n",
      "\n",
      "Classification Report\n",
      "              precision    recall  f1-score   support\n",
      "\n",
      "         nvg       1.00      0.93      0.96        42\n",
      "          vg       0.89      1.00      0.94        25\n",
      "\n",
      "    accuracy                           0.96        67\n",
      "   macro avg       0.95      0.96      0.95        67\n",
      "weighted avg       0.96      0.96      0.96        67\n",
      "\n"
     ]
    }
   ],
   "source": [
    "print_results(test_paintings_report.assign(\n",
    "    prob=np.mean(test_paintings_report.prob.values.tolist(), axis=1),\n",
    "    prediction=test_paintings_report.prediction_fre\n",
    "), test_data.class_names)"
   ]
  },
  {
   "cell_type": "code",
   "execution_count": null,
   "metadata": {
    "colab": {
     "base_uri": "https://localhost:8080/",
     "height": 238
    },
    "id": "_ETIsuSCemz6",
    "outputId": "39ab3a52-459c-47ea-c70d-15b2e1093800"
   },
   "outputs": [
    {
     "data": {
      "text/html": [
       "<div>\n",
       "<style scoped>\n",
       "    .dataframe tbody tr th:only-of-type {\n",
       "        vertical-align: middle;\n",
       "    }\n",
       "\n",
       "    .dataframe tbody tr th {\n",
       "        vertical-align: top;\n",
       "    }\n",
       "\n",
       "    .dataframe thead th {\n",
       "        text-align: right;\n",
       "    }\n",
       "</style>\n",
       "<table border=\"1\" class=\"dataframe\">\n",
       "  <thead>\n",
       "    <tr style=\"text-align: right;\">\n",
       "      <th></th>\n",
       "      <th>prob</th>\n",
       "      <th>prediction</th>\n",
       "      <th>y</th>\n",
       "      <th>prediction_sum</th>\n",
       "      <th>prediction_far</th>\n",
       "      <th>prediction_fre</th>\n",
       "    </tr>\n",
       "    <tr>\n",
       "      <th>filenames</th>\n",
       "      <th></th>\n",
       "      <th></th>\n",
       "      <th></th>\n",
       "      <th></th>\n",
       "      <th></th>\n",
       "      <th></th>\n",
       "    </tr>\n",
       "  </thead>\n",
       "  <tbody>\n",
       "    <tr>\n",
       "      <th>nvg_10500055</th>\n",
       "      <td>[1.529221534729004, 1.4620819091796875, 3.2532...</td>\n",
       "      <td>[1, 1, 1, 1, 1, 1, 1, 1, 1, 1, 1, 1, 1, 1, 1, ...</td>\n",
       "      <td>0</td>\n",
       "      <td>1</td>\n",
       "      <td>1</td>\n",
       "      <td>1</td>\n",
       "    </tr>\n",
       "    <tr>\n",
       "      <th>nvg_10582548</th>\n",
       "      <td>[-2.834152936935425, -8.582700729370117, -9.18...</td>\n",
       "      <td>[0, 0, 0, 0, 0, 0, 0, 0, 0, 0, 0, 0, 0, 0, 0, ...</td>\n",
       "      <td>0</td>\n",
       "      <td>0</td>\n",
       "      <td>0</td>\n",
       "      <td>0</td>\n",
       "    </tr>\n",
       "    <tr>\n",
       "      <th>nvg_10658644</th>\n",
       "      <td>[4.779599666595459, 3.3785626888275146, 4.8165...</td>\n",
       "      <td>[1, 1, 1, 1, 1, 1, 1, 1, 1, 1, 1, 1, 1, 1, 1, ...</td>\n",
       "      <td>0</td>\n",
       "      <td>1</td>\n",
       "      <td>1</td>\n",
       "      <td>1</td>\n",
       "    </tr>\n",
       "    <tr>\n",
       "      <th>nvg_10715961</th>\n",
       "      <td>[-0.1469217836856842, -1.5056886672973633, -0....</td>\n",
       "      <td>[0, 0, 0, 0, 0, 0, 0, 0, 0, 0, 0, 0, 0, 0, 0, ...</td>\n",
       "      <td>0</td>\n",
       "      <td>0</td>\n",
       "      <td>0</td>\n",
       "      <td>0</td>\n",
       "    </tr>\n",
       "    <tr>\n",
       "      <th>nvg_12205276</th>\n",
       "      <td>[-5.327931880950928, -6.595683574676514, -6.32...</td>\n",
       "      <td>[0, 0, 0, 0, 0, 0, 0, 0, 0, 0, 0, 0, 0, 0, 0, ...</td>\n",
       "      <td>0</td>\n",
       "      <td>0</td>\n",
       "      <td>0</td>\n",
       "      <td>0</td>\n",
       "    </tr>\n",
       "  </tbody>\n",
       "</table>\n",
       "</div>"
      ],
      "text/plain": [
       "                                                           prob  ... prediction_fre\n",
       "filenames                                                        ...               \n",
       "nvg_10500055  [1.529221534729004, 1.4620819091796875, 3.2532...  ...              1\n",
       "nvg_10582548  [-2.834152936935425, -8.582700729370117, -9.18...  ...              0\n",
       "nvg_10658644  [4.779599666595459, 3.3785626888275146, 4.8165...  ...              1\n",
       "nvg_10715961  [-0.1469217836856842, -1.5056886672973633, -0....  ...              0\n",
       "nvg_12205276  [-5.327931880950928, -6.595683574676514, -6.32...  ...              0\n",
       "\n",
       "[5 rows x 6 columns]"
      ]
     },
     "execution_count": 158,
     "metadata": {
      "tags": []
     },
     "output_type": "execute_result"
    }
   ],
   "source": [
    "test_paintings_report.head()"
   ]
  },
  {
   "cell_type": "code",
   "execution_count": null,
   "metadata": {
    "colab": {
     "base_uri": "https://localhost:8080/",
     "height": 175
    },
    "id": "jlSOIiy9e93S",
    "outputId": "3d652d8f-0d83-48d3-bc53-6e1ea7aef61c"
   },
   "outputs": [
    {
     "data": {
      "text/html": [
       "<div>\n",
       "<style scoped>\n",
       "    .dataframe tbody tr th:only-of-type {\n",
       "        vertical-align: middle;\n",
       "    }\n",
       "\n",
       "    .dataframe tbody tr th {\n",
       "        vertical-align: top;\n",
       "    }\n",
       "\n",
       "    .dataframe thead th {\n",
       "        text-align: right;\n",
       "    }\n",
       "</style>\n",
       "<table border=\"1\" class=\"dataframe\">\n",
       "  <thead>\n",
       "    <tr style=\"text-align: right;\">\n",
       "      <th></th>\n",
       "      <th>prob</th>\n",
       "      <th>prediction</th>\n",
       "      <th>y</th>\n",
       "      <th>prediction_sum</th>\n",
       "      <th>prediction_far</th>\n",
       "      <th>prediction_fre</th>\n",
       "    </tr>\n",
       "    <tr>\n",
       "      <th>filenames</th>\n",
       "      <th></th>\n",
       "      <th></th>\n",
       "      <th></th>\n",
       "      <th></th>\n",
       "      <th></th>\n",
       "      <th></th>\n",
       "    </tr>\n",
       "  </thead>\n",
       "  <tbody>\n",
       "    <tr>\n",
       "      <th>nvg_10500055</th>\n",
       "      <td>[1.529221534729004, 1.4620819091796875, 3.2532...</td>\n",
       "      <td>[1, 1, 1, 1, 1, 1, 1, 1, 1, 1, 1, 1, 1, 1, 1, ...</td>\n",
       "      <td>0</td>\n",
       "      <td>1</td>\n",
       "      <td>1</td>\n",
       "      <td>1</td>\n",
       "    </tr>\n",
       "    <tr>\n",
       "      <th>nvg_10658644</th>\n",
       "      <td>[4.779599666595459, 3.3785626888275146, 4.8165...</td>\n",
       "      <td>[1, 1, 1, 1, 1, 1, 1, 1, 1, 1, 1, 1, 1, 1, 1, ...</td>\n",
       "      <td>0</td>\n",
       "      <td>1</td>\n",
       "      <td>1</td>\n",
       "      <td>1</td>\n",
       "    </tr>\n",
       "    <tr>\n",
       "      <th>nvg_9780042</th>\n",
       "      <td>[0.6879106163978577, 1.2606370449066162, 3.593...</td>\n",
       "      <td>[1, 1, 1, 1, 1, 0, 0, 1, 1, 1, 0, 1, 1, 1, 0, ...</td>\n",
       "      <td>0</td>\n",
       "      <td>1</td>\n",
       "      <td>1</td>\n",
       "      <td>1</td>\n",
       "    </tr>\n",
       "  </tbody>\n",
       "</table>\n",
       "</div>"
      ],
      "text/plain": [
       "                                                           prob  ... prediction_fre\n",
       "filenames                                                        ...               \n",
       "nvg_10500055  [1.529221534729004, 1.4620819091796875, 3.2532...  ...              1\n",
       "nvg_10658644  [4.779599666595459, 3.3785626888275146, 4.8165...  ...              1\n",
       "nvg_9780042   [0.6879106163978577, 1.2606370449066162, 3.593...  ...              1\n",
       "\n",
       "[3 rows x 6 columns]"
      ]
     },
     "execution_count": 163,
     "metadata": {
      "tags": []
     },
     "output_type": "execute_result"
    }
   ],
   "source": [
    "misses = (test_paintings_report.prediction_sum != test_paintings_report.y)\n",
    "test_paintings_report[misses]"
   ]
  },
  {
   "cell_type": "code",
   "execution_count": null,
   "metadata": {
    "colab": {
     "base_uri": "https://localhost:8080/",
     "height": 206
    },
    "id": "dY5Vi3V6etCu",
    "outputId": "2bf876e8-467a-4783-84a5-96af735766dd"
   },
   "outputs": [
    {
     "data": {
      "text/html": [
       "<div>\n",
       "<style scoped>\n",
       "    .dataframe tbody tr th:only-of-type {\n",
       "        vertical-align: middle;\n",
       "    }\n",
       "\n",
       "    .dataframe tbody tr th {\n",
       "        vertical-align: top;\n",
       "    }\n",
       "\n",
       "    .dataframe thead th {\n",
       "        text-align: right;\n",
       "    }\n",
       "</style>\n",
       "<table border=\"1\" class=\"dataframe\">\n",
       "  <thead>\n",
       "    <tr style=\"text-align: right;\">\n",
       "      <th></th>\n",
       "      <th>prob</th>\n",
       "      <th>prediction</th>\n",
       "      <th>y</th>\n",
       "      <th>prediction_sum</th>\n",
       "      <th>prediction_far</th>\n",
       "      <th>prediction_fre</th>\n",
       "    </tr>\n",
       "    <tr>\n",
       "      <th>filenames</th>\n",
       "      <th></th>\n",
       "      <th></th>\n",
       "      <th></th>\n",
       "      <th></th>\n",
       "      <th></th>\n",
       "      <th></th>\n",
       "    </tr>\n",
       "  </thead>\n",
       "  <tbody>\n",
       "    <tr>\n",
       "      <th>nvg_10500055</th>\n",
       "      <td>[1.529221534729004, 1.4620819091796875, 3.2532...</td>\n",
       "      <td>[1, 1, 1, 1, 1, 1, 1, 1, 1, 1, 1, 1, 1, 1, 1, ...</td>\n",
       "      <td>0</td>\n",
       "      <td>1</td>\n",
       "      <td>1</td>\n",
       "      <td>1</td>\n",
       "    </tr>\n",
       "    <tr>\n",
       "      <th>nvg_10658644</th>\n",
       "      <td>[4.779599666595459, 3.3785626888275146, 4.8165...</td>\n",
       "      <td>[1, 1, 1, 1, 1, 1, 1, 1, 1, 1, 1, 1, 1, 1, 1, ...</td>\n",
       "      <td>0</td>\n",
       "      <td>1</td>\n",
       "      <td>1</td>\n",
       "      <td>1</td>\n",
       "    </tr>\n",
       "    <tr>\n",
       "      <th>nvg_9780042</th>\n",
       "      <td>[0.6879106163978577, 1.2606370449066162, 3.593...</td>\n",
       "      <td>[1, 1, 1, 1, 1, 0, 0, 1, 1, 1, 0, 1, 1, 1, 0, ...</td>\n",
       "      <td>0</td>\n",
       "      <td>1</td>\n",
       "      <td>1</td>\n",
       "      <td>1</td>\n",
       "    </tr>\n",
       "    <tr>\n",
       "      <th>vg_33566806</th>\n",
       "      <td>[2.3205909729003906, -2.534024477005005, -1.74...</td>\n",
       "      <td>[1, 0, 0, 0, 0, 1, 1, 1, 1, 0, 1, 0, 0, 1, 0, ...</td>\n",
       "      <td>1</td>\n",
       "      <td>1</td>\n",
       "      <td>0</td>\n",
       "      <td>1</td>\n",
       "    </tr>\n",
       "  </tbody>\n",
       "</table>\n",
       "</div>"
      ],
      "text/plain": [
       "                                                           prob  ... prediction_fre\n",
       "filenames                                                        ...               \n",
       "nvg_10500055  [1.529221534729004, 1.4620819091796875, 3.2532...  ...              1\n",
       "nvg_10658644  [4.779599666595459, 3.3785626888275146, 4.8165...  ...              1\n",
       "nvg_9780042   [0.6879106163978577, 1.2606370449066162, 3.593...  ...              1\n",
       "vg_33566806   [2.3205909729003906, -2.534024477005005, -1.74...  ...              1\n",
       "\n",
       "[4 rows x 6 columns]"
      ]
     },
     "execution_count": 164,
     "metadata": {
      "tags": []
     },
     "output_type": "execute_result"
    }
   ],
   "source": [
    "misses = (test_paintings_report.prediction_far != test_paintings_report.y)\n",
    "test_paintings_report[misses]"
   ]
  },
  {
   "cell_type": "code",
   "execution_count": null,
   "metadata": {
    "colab": {
     "base_uri": "https://localhost:8080/",
     "height": 175
    },
    "id": "PNSdcMxRe_cV",
    "outputId": "3f99b0d3-73a1-4b1d-d597-72e9ceb1eca0"
   },
   "outputs": [
    {
     "data": {
      "text/html": [
       "<div>\n",
       "<style scoped>\n",
       "    .dataframe tbody tr th:only-of-type {\n",
       "        vertical-align: middle;\n",
       "    }\n",
       "\n",
       "    .dataframe tbody tr th {\n",
       "        vertical-align: top;\n",
       "    }\n",
       "\n",
       "    .dataframe thead th {\n",
       "        text-align: right;\n",
       "    }\n",
       "</style>\n",
       "<table border=\"1\" class=\"dataframe\">\n",
       "  <thead>\n",
       "    <tr style=\"text-align: right;\">\n",
       "      <th></th>\n",
       "      <th>prob</th>\n",
       "      <th>prediction</th>\n",
       "      <th>y</th>\n",
       "      <th>prediction_sum</th>\n",
       "      <th>prediction_far</th>\n",
       "      <th>prediction_fre</th>\n",
       "    </tr>\n",
       "    <tr>\n",
       "      <th>filenames</th>\n",
       "      <th></th>\n",
       "      <th></th>\n",
       "      <th></th>\n",
       "      <th></th>\n",
       "      <th></th>\n",
       "      <th></th>\n",
       "    </tr>\n",
       "  </thead>\n",
       "  <tbody>\n",
       "    <tr>\n",
       "      <th>nvg_10500055</th>\n",
       "      <td>[1.529221534729004, 1.4620819091796875, 3.2532...</td>\n",
       "      <td>[1, 1, 1, 1, 1, 1, 1, 1, 1, 1, 1, 1, 1, 1, 1, ...</td>\n",
       "      <td>0</td>\n",
       "      <td>1</td>\n",
       "      <td>1</td>\n",
       "      <td>1</td>\n",
       "    </tr>\n",
       "    <tr>\n",
       "      <th>nvg_10658644</th>\n",
       "      <td>[4.779599666595459, 3.3785626888275146, 4.8165...</td>\n",
       "      <td>[1, 1, 1, 1, 1, 1, 1, 1, 1, 1, 1, 1, 1, 1, 1, ...</td>\n",
       "      <td>0</td>\n",
       "      <td>1</td>\n",
       "      <td>1</td>\n",
       "      <td>1</td>\n",
       "    </tr>\n",
       "    <tr>\n",
       "      <th>nvg_9780042</th>\n",
       "      <td>[0.6879106163978577, 1.2606370449066162, 3.593...</td>\n",
       "      <td>[1, 1, 1, 1, 1, 0, 0, 1, 1, 1, 0, 1, 1, 1, 0, ...</td>\n",
       "      <td>0</td>\n",
       "      <td>1</td>\n",
       "      <td>1</td>\n",
       "      <td>1</td>\n",
       "    </tr>\n",
       "  </tbody>\n",
       "</table>\n",
       "</div>"
      ],
      "text/plain": [
       "                                                           prob  ... prediction_fre\n",
       "filenames                                                        ...               \n",
       "nvg_10500055  [1.529221534729004, 1.4620819091796875, 3.2532...  ...              1\n",
       "nvg_10658644  [4.779599666595459, 3.3785626888275146, 4.8165...  ...              1\n",
       "nvg_9780042   [0.6879106163978577, 1.2606370449066162, 3.593...  ...              1\n",
       "\n",
       "[3 rows x 6 columns]"
      ]
     },
     "execution_count": 165,
     "metadata": {
      "tags": []
     },
     "output_type": "execute_result"
    }
   ],
   "source": [
    "misses = (test_paintings_report.prediction_fre != test_paintings_report.y)\n",
    "test_paintings_report[misses]"
   ]
  }
 ],
 "metadata": {
  "accelerator": "GPU",
  "colab": {
   "collapsed_sections": [
    "P9msV_P9FmeE"
   ],
   "name": "classification-vgdb2016.ipynb",
   "provenance": [],
   "toc_visible": true
  },
  "kernelspec": {
   "display_name": "Python 3",
   "language": "python",
   "name": "python3"
  },
  "language_info": {
   "codemirror_mode": {
    "name": "ipython",
    "version": 3
   },
   "file_extension": ".py",
   "mimetype": "text/x-python",
   "name": "python",
   "nbconvert_exporter": "python",
   "pygments_lexer": "ipython3",
   "version": "3.6.9"
  }
 },
 "nbformat": 4,
 "nbformat_minor": 1
}
