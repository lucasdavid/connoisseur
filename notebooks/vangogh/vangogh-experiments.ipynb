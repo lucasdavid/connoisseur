{
 "cells": [
  {
   "cell_type": "markdown",
   "id": "whole-cattle",
   "metadata": {},
   "source": [
    "# Experiments on Authentication of van Gogh's Artwork"
   ]
  },
  {
   "cell_type": "code",
   "execution_count": 1,
   "id": "scheduled-portugal",
   "metadata": {},
   "outputs": [],
   "source": [
    "DATA_DIR = '/home/ldavid/datasets/'\n",
    "PATCHES_DIR = DATA_DIR + '/vgdb_2016/patches'\n",
    "\n",
    "IMAGE_SIZE = (300, 300)\n",
    "PATCHES = 100\n",
    "SEED = 12038\n",
    "N_JOBS = 1\n",
    "\n",
    "DOWNSAMPLING_FACTOR = 8"
   ]
  },
  {
   "cell_type": "markdown",
   "id": "terminal-while",
   "metadata": {},
   "source": [
    "## Setup"
   ]
  },
  {
   "cell_type": "code",
   "execution_count": 2,
   "id": "broad-acquisition",
   "metadata": {},
   "outputs": [],
   "source": [
    "import os\n",
    "from PIL import Image, ImageFile\n",
    "\n",
    "import numpy as np\n",
    "import tensorflow as tf\n",
    "from skimage import feature\n",
    "\n",
    "import matplotlib.pyplot as plt\n",
    "import connoisseur"
   ]
  },
  {
   "cell_type": "code",
   "execution_count": 3,
   "id": "parallel-daniel",
   "metadata": {},
   "outputs": [],
   "source": [
    "Image.MAX_IMAGE_PIXELS = None\n",
    "ImageFile.LOAD_TRUNCATED_IMAGES = True"
   ]
  },
  {
   "cell_type": "markdown",
   "id": "assured-orchestra",
   "metadata": {},
   "source": [
    "## Dataset\n",
    "\n",
    "Check if data is ready"
   ]
  },
  {
   "cell_type": "code",
   "execution_count": 4,
   "id": "romantic-papua",
   "metadata": {},
   "outputs": [],
   "source": [
    "vg = connoisseur.datasets.VanGogh(\n",
    "    base_dir=DATA_DIR,\n",
    "    image_shape=IMAGE_SIZE,\n",
    "    train_n_patches=PATCHES,\n",
    "    valid_n_patches=PATCHES,\n",
    "    test_n_patches=PATCHES,\n",
    "    n_jobs=N_JOBS,\n",
    "    random_state=SEED\n",
    ")"
   ]
  },
  {
   "cell_type": "code",
   "execution_count": null,
   "id": "civilian-aircraft",
   "metadata": {
    "scrolled": true
   },
   "outputs": [
    {
     "name": "stdout",
     "output_type": "stream",
     "text": [
      "saving patches to disk...\n",
      "extracting train patches to disk...\n",
      "weights: [1.0, 1.0]\n",
      "  skipped nvg\n",
      "  skipped vg\n",
      "extracting test patches to disk...\n",
      "weights: [1.0, 1.0]\n",
      "  skipped nvg\n",
      "  skipped vg\n",
      "patches extraction completed.\n",
      "saving patches to disk...\n",
      "extracting train patches to disk...\n",
      "weights: [1.0, 1.0]\n"
     ]
    }
   ],
   "source": [
    "for extraction in ('random', 'max-gradient', 'min-gradient'):\n",
    "    vg.save_patches_to_disk(\n",
    "        directory=os.path.join(PATCHES_DIR, extraction),\n",
    "        mode=extraction,\n",
    "        pool_size=DOWNSAMPLING_FACTOR)"
   ]
  }
 ],
 "metadata": {
  "kernelspec": {
   "display_name": "Python 3",
   "language": "python",
   "name": "python3"
  },
  "language_info": {
   "codemirror_mode": {
    "name": "ipython",
    "version": 3
   },
   "file_extension": ".py",
   "mimetype": "text/x-python",
   "name": "python",
   "nbconvert_exporter": "python",
   "pygments_lexer": "ipython3",
   "version": "3.8.5"
  }
 },
 "nbformat": 4,
 "nbformat_minor": 5
}
